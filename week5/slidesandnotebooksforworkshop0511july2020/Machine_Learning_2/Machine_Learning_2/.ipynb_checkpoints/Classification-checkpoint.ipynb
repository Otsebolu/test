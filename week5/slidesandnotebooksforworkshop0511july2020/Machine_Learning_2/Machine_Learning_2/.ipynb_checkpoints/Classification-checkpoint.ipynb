{
 "cells": [
  {
   "cell_type": "code",
   "execution_count": 36,
   "metadata": {},
   "outputs": [],
   "source": [
    "%reset -f"
   ]
  },
  {
   "cell_type": "code",
   "execution_count": 37,
   "metadata": {},
   "outputs": [],
   "source": [
    "import matplotlib.pyplot as plt\n",
    "plt.style.use('seaborn')\n",
    "\n",
    "import pandas as pd\n",
    "import numpy as np\n",
    "\n",
    "from sklearn.ensemble import RandomForestClassifier\n",
    "from sklearn.linear_model import LogisticRegression\n",
    "from sklearn.model_selection import train_test_split, GridSearchCV\n",
    "from sklearn.metrics import accuracy_score, confusion_matrix\n",
    "from sklearn.preprocessing import StandardScaler\n",
    "from sklearn.datasets import make_classification\n",
    "\n",
    "from collections import Counter\n",
    "\n",
    "import psutil\n",
    "\n",
    "from colorama import Style, Fore, Back"
   ]
  },
  {
   "cell_type": "code",
   "execution_count": 38,
   "metadata": {},
   "outputs": [
    {
     "data": {
      "text/html": [
       "<div>\n",
       "<style scoped>\n",
       "    .dataframe tbody tr th:only-of-type {\n",
       "        vertical-align: middle;\n",
       "    }\n",
       "\n",
       "    .dataframe tbody tr th {\n",
       "        vertical-align: top;\n",
       "    }\n",
       "\n",
       "    .dataframe thead th {\n",
       "        text-align: right;\n",
       "    }\n",
       "</style>\n",
       "<table border=\"1\" class=\"dataframe\">\n",
       "  <thead>\n",
       "    <tr style=\"text-align: right;\">\n",
       "      <th></th>\n",
       "      <th>Ft_1</th>\n",
       "      <th>Ft_2</th>\n",
       "      <th>Ft_3</th>\n",
       "      <th>Ft_4</th>\n",
       "      <th>Ft_5</th>\n",
       "      <th>Ft_6</th>\n",
       "      <th>Ft_7</th>\n",
       "      <th>Ft_8</th>\n",
       "      <th>Ft_9</th>\n",
       "      <th>Ft_10</th>\n",
       "      <th>y</th>\n",
       "    </tr>\n",
       "  </thead>\n",
       "  <tbody>\n",
       "    <tr>\n",
       "      <th>0</th>\n",
       "      <td>2.770929</td>\n",
       "      <td>-1.177678</td>\n",
       "      <td>0.001778</td>\n",
       "      <td>1.421301</td>\n",
       "      <td>-4.141069</td>\n",
       "      <td>0.001778</td>\n",
       "      <td>0.314980</td>\n",
       "      <td>0.244916</td>\n",
       "      <td>2.110045</td>\n",
       "      <td>0.001778</td>\n",
       "      <td>0</td>\n",
       "    </tr>\n",
       "    <tr>\n",
       "      <th>1</th>\n",
       "      <td>-1.962752</td>\n",
       "      <td>-1.474427</td>\n",
       "      <td>-0.738861</td>\n",
       "      <td>0.561202</td>\n",
       "      <td>-0.299556</td>\n",
       "      <td>-0.738861</td>\n",
       "      <td>2.303809</td>\n",
       "      <td>-1.276648</td>\n",
       "      <td>-1.439053</td>\n",
       "      <td>-0.738861</td>\n",
       "      <td>1</td>\n",
       "    </tr>\n",
       "    <tr>\n",
       "      <th>2</th>\n",
       "      <td>-3.694985</td>\n",
       "      <td>-0.572655</td>\n",
       "      <td>-2.441135</td>\n",
       "      <td>0.985736</td>\n",
       "      <td>0.187163</td>\n",
       "      <td>-2.441135</td>\n",
       "      <td>4.291006</td>\n",
       "      <td>1.092934</td>\n",
       "      <td>-1.181399</td>\n",
       "      <td>-2.441135</td>\n",
       "      <td>1</td>\n",
       "    </tr>\n",
       "    <tr>\n",
       "      <th>3</th>\n",
       "      <td>2.867535</td>\n",
       "      <td>3.118144</td>\n",
       "      <td>0.313463</td>\n",
       "      <td>-0.681174</td>\n",
       "      <td>0.188393</td>\n",
       "      <td>0.313463</td>\n",
       "      <td>-4.167673</td>\n",
       "      <td>3.571354</td>\n",
       "      <td>0.095224</td>\n",
       "      <td>0.313463</td>\n",
       "      <td>0</td>\n",
       "    </tr>\n",
       "    <tr>\n",
       "      <th>4</th>\n",
       "      <td>0.389922</td>\n",
       "      <td>3.470132</td>\n",
       "      <td>-2.063836</td>\n",
       "      <td>-0.255547</td>\n",
       "      <td>1.161201</td>\n",
       "      <td>-2.063836</td>\n",
       "      <td>0.050794</td>\n",
       "      <td>1.862306</td>\n",
       "      <td>-0.532356</td>\n",
       "      <td>-2.063836</td>\n",
       "      <td>0</td>\n",
       "    </tr>\n",
       "  </tbody>\n",
       "</table>\n",
       "</div>"
      ],
      "text/plain": [
       "       Ft_1      Ft_2      Ft_3      Ft_4      Ft_5      Ft_6      Ft_7  \\\n",
       "0  2.770929 -1.177678  0.001778  1.421301 -4.141069  0.001778  0.314980   \n",
       "1 -1.962752 -1.474427 -0.738861  0.561202 -0.299556 -0.738861  2.303809   \n",
       "2 -3.694985 -0.572655 -2.441135  0.985736  0.187163 -2.441135  4.291006   \n",
       "3  2.867535  3.118144  0.313463 -0.681174  0.188393  0.313463 -4.167673   \n",
       "4  0.389922  3.470132 -2.063836 -0.255547  1.161201 -2.063836  0.050794   \n",
       "\n",
       "       Ft_8      Ft_9     Ft_10  y  \n",
       "0  0.244916  2.110045  0.001778  0  \n",
       "1 -1.276648 -1.439053 -0.738861  1  \n",
       "2  1.092934 -1.181399 -2.441135  1  \n",
       "3  3.571354  0.095224  0.313463  0  \n",
       "4  1.862306 -0.532356 -2.063836  0  "
      ]
     },
     "execution_count": 38,
     "metadata": {},
     "output_type": "execute_result"
    }
   ],
   "source": [
    "df = pd.read_csv('data_Classification.csv')\n",
    "df.head()"
   ]
  },
  {
   "cell_type": "code",
   "execution_count": 39,
   "metadata": {},
   "outputs": [
    {
     "name": "stdout",
     "output_type": "stream",
     "text": [
      "Class 0: 50.0 %\n",
      "Class 1: 50.0 %\n"
     ]
    }
   ],
   "source": [
    "labelSkew = Counter(df['y'])\n",
    "\n",
    "for i in labelSkew.keys():\n",
    "    thisCount = round(100*labelSkew[i]/df.shape[0],1)\n",
    "    print('Class '+str(i)+':', thisCount, '%')"
   ]
  },
  {
   "cell_type": "code",
   "execution_count": 40,
   "metadata": {},
   "outputs": [],
   "source": [
    "data = df.drop(['y'], axis=1)\n",
    "data = pd.get_dummies(data)\n",
    "\n",
    "target = df['y']\n",
    "\n",
    "theCols = data.columns"
   ]
  },
  {
   "cell_type": "code",
   "execution_count": 41,
   "metadata": {},
   "outputs": [],
   "source": [
    "x, xt, y, yt = train_test_split(data, target)"
   ]
  },
  {
   "cell_type": "code",
   "execution_count": 42,
   "metadata": {},
   "outputs": [],
   "source": [
    "stdScaler = StandardScaler()\n",
    "\n",
    "stdScaler.fit(x)\n",
    "\n",
    "x = stdScaler.transform(x)\n",
    "xt = stdScaler.transform(xt)"
   ]
  },
  {
   "cell_type": "markdown",
   "metadata": {},
   "source": [
    "## Without Hyperparameter Tuning"
   ]
  },
  {
   "cell_type": "code",
   "execution_count": 43,
   "metadata": {},
   "outputs": [],
   "source": [
    "baseModel = LogisticRegression(C=0.001, solver='saga', penalty='elasticnet', l1_ratio=0.5, max_iter=2000)\n",
    "\n",
    "baseModel.fit(x,y);"
   ]
  },
  {
   "cell_type": "code",
   "execution_count": 44,
   "metadata": {},
   "outputs": [],
   "source": [
    "yp = baseModel.predict(x)\n",
    "ytp = baseModel.predict(xt)"
   ]
  },
  {
   "cell_type": "code",
   "execution_count": 45,
   "metadata": {},
   "outputs": [
    {
     "name": "stdout",
     "output_type": "stream",
     "text": [
      "\n",
      "\n",
      "Test Accuracy: 76.5 %\n",
      "\n",
      "Test Confusion Matrix:\n"
     ]
    },
    {
     "data": {
      "text/plain": [
       "array([[370, 146],\n",
       "       [ 89, 395]], dtype=int64)"
      ]
     },
     "execution_count": 45,
     "metadata": {},
     "output_type": "execute_result"
    }
   ],
   "source": [
    "testAcc = round(100*accuracy_score(y_true=yt, y_pred=ytp), 2)\n",
    "print('\\n\\nTest Accuracy:', testAcc, '%\\n')\n",
    "\n",
    "print('Test Confusion Matrix:')\n",
    "confusion_matrix(y_true=yt, y_pred=ytp)"
   ]
  },
  {
   "cell_type": "markdown",
   "metadata": {},
   "source": [
    "## With Hyperparameter Tuning"
   ]
  },
  {
   "cell_type": "code",
   "execution_count": 46,
   "metadata": {},
   "outputs": [],
   "source": [
    "numJobs = psutil.cpu_count(logical=False)\n",
    "\n",
    "# scrList = ['accuracy', 'neg_log_loss', 'brier_score_loss', 'recall', 'precision', 'f1', 'roc_auc']\n",
    "scr = 'roc_auc'"
   ]
  },
  {
   "cell_type": "code",
   "execution_count": 47,
   "metadata": {},
   "outputs": [],
   "source": [
    "cList = np.logspace(-2,2,5)\n",
    "ratioList = np.linspace(0,1,11)"
   ]
  },
  {
   "cell_type": "code",
   "execution_count": 48,
   "metadata": {},
   "outputs": [
    {
     "name": "stdout",
     "output_type": "stream",
     "text": [
      "Fitting 3 folds for each of 55 candidates, totalling 165 fits\n"
     ]
    },
    {
     "name": "stderr",
     "output_type": "stream",
     "text": [
      "[Parallel(n_jobs=4)]: Using backend LokyBackend with 4 concurrent workers.\n",
      "[Parallel(n_jobs=4)]: Done 142 tasks      | elapsed:   11.7s\n",
      "[Parallel(n_jobs=4)]: Done 165 out of 165 | elapsed:   24.5s finished\n"
     ]
    },
    {
     "data": {
      "text/plain": [
       "{'C': 0.1, 'l1_ratio': 0.7000000000000001}"
      ]
     },
     "execution_count": 48,
     "metadata": {},
     "output_type": "execute_result"
    }
   ],
   "source": [
    "hyperParams = {'C':cList, 'l1_ratio':ratioList}\n",
    "\n",
    "best_model = GridSearchCV(estimator=baseModel, param_grid=hyperParams, cv=3, scoring=scr, n_jobs=numJobs, verbose=1)\n",
    "\n",
    "best_model.fit(x, y);\n",
    "\n",
    "best_model.best_params_"
   ]
  },
  {
   "cell_type": "code",
   "execution_count": 49,
   "metadata": {},
   "outputs": [],
   "source": [
    "yp = best_model.best_estimator_.predict(x)\n",
    "ytp = best_model.best_estimator_.predict(xt)"
   ]
  },
  {
   "cell_type": "code",
   "execution_count": 50,
   "metadata": {},
   "outputs": [
    {
     "name": "stdout",
     "output_type": "stream",
     "text": [
      "\n",
      "\n",
      "Test Accuracy: 92.3 %\n",
      "\n",
      "Test Confusion Matrix:\n"
     ]
    },
    {
     "data": {
      "text/plain": [
       "array([[473,  43],\n",
       "       [ 34, 450]], dtype=int64)"
      ]
     },
     "execution_count": 50,
     "metadata": {},
     "output_type": "execute_result"
    }
   ],
   "source": [
    "testAcc = round(100*accuracy_score(y_true=yt, y_pred=ytp), 2)\n",
    "print('\\n\\nTest Accuracy:', testAcc, '%\\n')\n",
    "\n",
    "print('Test Confusion Matrix:')\n",
    "confusion_matrix(y_true=yt, y_pred=ytp)"
   ]
  },
  {
   "cell_type": "code",
   "execution_count": null,
   "metadata": {},
   "outputs": [],
   "source": []
  }
 ],
 "metadata": {
  "kernelspec": {
   "display_name": "Python 3",
   "language": "python",
   "name": "python3"
  },
  "language_info": {
   "codemirror_mode": {
    "name": "ipython",
    "version": 3
   },
   "file_extension": ".py",
   "mimetype": "text/x-python",
   "name": "python",
   "nbconvert_exporter": "python",
   "pygments_lexer": "ipython3",
   "version": "3.7.1"
  }
 },
 "nbformat": 4,
 "nbformat_minor": 2
}
