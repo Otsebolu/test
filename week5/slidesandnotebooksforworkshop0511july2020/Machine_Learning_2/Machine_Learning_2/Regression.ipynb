{
 "cells": [
  {
   "cell_type": "code",
   "execution_count": 145,
   "metadata": {},
   "outputs": [],
   "source": [
    "%reset -f"
   ]
  },
  {
   "cell_type": "code",
   "execution_count": 146,
   "metadata": {},
   "outputs": [],
   "source": [
    "import matplotlib.pyplot as plt\n",
    "plt.style.use('seaborn')\n",
    "\n",
    "import pandas as pd\n",
    "import numpy as np\n",
    "\n",
    "from sklearn.ensemble import RandomForestRegressor\n",
    "from sklearn.linear_model import ElasticNet\n",
    "from sklearn.model_selection import train_test_split, GridSearchCV\n",
    "from sklearn.metrics import make_scorer, r2_score, mean_absolute_error, mean_squared_error\n",
    "from sklearn.preprocessing import StandardScaler\n",
    "from sklearn.datasets import make_regression\n",
    "\n",
    "from collections import Counter\n",
    "\n",
    "import psutil\n",
    "\n",
    "from colorama import Style, Fore, Back"
   ]
  },
  {
   "cell_type": "code",
   "execution_count": 147,
   "metadata": {},
   "outputs": [
    {
     "data": {
      "text/html": [
       "<div>\n",
       "<style scoped>\n",
       "    .dataframe tbody tr th:only-of-type {\n",
       "        vertical-align: middle;\n",
       "    }\n",
       "\n",
       "    .dataframe tbody tr th {\n",
       "        vertical-align: top;\n",
       "    }\n",
       "\n",
       "    .dataframe thead th {\n",
       "        text-align: right;\n",
       "    }\n",
       "</style>\n",
       "<table border=\"1\" class=\"dataframe\">\n",
       "  <thead>\n",
       "    <tr style=\"text-align: right;\">\n",
       "      <th></th>\n",
       "      <th>Ft_1</th>\n",
       "      <th>Ft_2</th>\n",
       "      <th>Ft_3</th>\n",
       "      <th>Ft_4</th>\n",
       "      <th>Ft_5</th>\n",
       "      <th>Ft_6</th>\n",
       "      <th>Ft_7</th>\n",
       "      <th>Ft_8</th>\n",
       "      <th>Ft_9</th>\n",
       "      <th>Ft_10</th>\n",
       "      <th>y</th>\n",
       "    </tr>\n",
       "  </thead>\n",
       "  <tbody>\n",
       "    <tr>\n",
       "      <th>0</th>\n",
       "      <td>-0.157627</td>\n",
       "      <td>-0.920920</td>\n",
       "      <td>-1.018400</td>\n",
       "      <td>-0.590008</td>\n",
       "      <td>-1.255163</td>\n",
       "      <td>-0.392845</td>\n",
       "      <td>1.803401</td>\n",
       "      <td>0.890018</td>\n",
       "      <td>-0.196411</td>\n",
       "      <td>-0.023246</td>\n",
       "      <td>-107.805388</td>\n",
       "    </tr>\n",
       "    <tr>\n",
       "      <th>1</th>\n",
       "      <td>-0.348395</td>\n",
       "      <td>0.801671</td>\n",
       "      <td>-0.402265</td>\n",
       "      <td>-0.405617</td>\n",
       "      <td>-1.077407</td>\n",
       "      <td>0.426597</td>\n",
       "      <td>0.648775</td>\n",
       "      <td>0.907793</td>\n",
       "      <td>0.578962</td>\n",
       "      <td>-1.477395</td>\n",
       "      <td>-136.844678</td>\n",
       "    </tr>\n",
       "    <tr>\n",
       "      <th>2</th>\n",
       "      <td>1.085262</td>\n",
       "      <td>0.045359</td>\n",
       "      <td>-0.967618</td>\n",
       "      <td>0.072622</td>\n",
       "      <td>-0.067625</td>\n",
       "      <td>-2.489593</td>\n",
       "      <td>0.841832</td>\n",
       "      <td>0.389132</td>\n",
       "      <td>0.701437</td>\n",
       "      <td>-0.691908</td>\n",
       "      <td>-177.479185</td>\n",
       "    </tr>\n",
       "    <tr>\n",
       "      <th>3</th>\n",
       "      <td>1.511375</td>\n",
       "      <td>-0.547199</td>\n",
       "      <td>1.593585</td>\n",
       "      <td>0.421384</td>\n",
       "      <td>-0.334831</td>\n",
       "      <td>-0.083260</td>\n",
       "      <td>0.115761</td>\n",
       "      <td>-0.311841</td>\n",
       "      <td>1.156146</td>\n",
       "      <td>-0.143509</td>\n",
       "      <td>-40.258523</td>\n",
       "    </tr>\n",
       "    <tr>\n",
       "      <th>4</th>\n",
       "      <td>0.257329</td>\n",
       "      <td>-0.174580</td>\n",
       "      <td>0.193389</td>\n",
       "      <td>-0.365684</td>\n",
       "      <td>-0.068800</td>\n",
       "      <td>0.737681</td>\n",
       "      <td>-0.023763</td>\n",
       "      <td>-1.816901</td>\n",
       "      <td>1.607556</td>\n",
       "      <td>0.588749</td>\n",
       "      <td>71.770747</td>\n",
       "    </tr>\n",
       "  </tbody>\n",
       "</table>\n",
       "</div>"
      ],
      "text/plain": [
       "       Ft_1      Ft_2      Ft_3      Ft_4      Ft_5      Ft_6      Ft_7  \\\n",
       "0 -0.157627 -0.920920 -1.018400 -0.590008 -1.255163 -0.392845  1.803401   \n",
       "1 -0.348395  0.801671 -0.402265 -0.405617 -1.077407  0.426597  0.648775   \n",
       "2  1.085262  0.045359 -0.967618  0.072622 -0.067625 -2.489593  0.841832   \n",
       "3  1.511375 -0.547199  1.593585  0.421384 -0.334831 -0.083260  0.115761   \n",
       "4  0.257329 -0.174580  0.193389 -0.365684 -0.068800  0.737681 -0.023763   \n",
       "\n",
       "       Ft_8      Ft_9     Ft_10           y  \n",
       "0  0.890018 -0.196411 -0.023246 -107.805388  \n",
       "1  0.907793  0.578962 -1.477395 -136.844678  \n",
       "2  0.389132  0.701437 -0.691908 -177.479185  \n",
       "3 -0.311841  1.156146 -0.143509  -40.258523  \n",
       "4 -1.816901  1.607556  0.588749   71.770747  "
      ]
     },
     "execution_count": 147,
     "metadata": {},
     "output_type": "execute_result"
    }
   ],
   "source": [
    "df = pd.read_csv('data_Regression.csv')\n",
    "df.head()"
   ]
  },
  {
   "cell_type": "code",
   "execution_count": 148,
   "metadata": {},
   "outputs": [],
   "source": [
    "data = df.drop(['y'], axis=1)\n",
    "data = pd.get_dummies(data)\n",
    "\n",
    "target = df['y']\n",
    "\n",
    "theCols = data.columns"
   ]
  },
  {
   "cell_type": "code",
   "execution_count": 149,
   "metadata": {},
   "outputs": [],
   "source": [
    "x, xt, y, yt = train_test_split(data, target)"
   ]
  },
  {
   "cell_type": "code",
   "execution_count": 150,
   "metadata": {},
   "outputs": [],
   "source": [
    "stdScaler = StandardScaler()\n",
    "\n",
    "stdScaler.fit(x)\n",
    "\n",
    "x = stdScaler.transform(x)\n",
    "xt = stdScaler.transform(xt)"
   ]
  },
  {
   "cell_type": "markdown",
   "metadata": {},
   "source": [
    "## Without Hyperparameter Tuning"
   ]
  },
  {
   "cell_type": "code",
   "execution_count": 151,
   "metadata": {},
   "outputs": [],
   "source": [
    "baseModel = ElasticNet(alpha=1.5, l1_ratio=0.1, max_iter=2000)\n",
    "\n",
    "baseModel.fit(x,y);"
   ]
  },
  {
   "cell_type": "code",
   "execution_count": 152,
   "metadata": {},
   "outputs": [],
   "source": [
    "yp = baseModel.predict(x)\n",
    "ytp = baseModel.predict(xt)"
   ]
  },
  {
   "cell_type": "code",
   "execution_count": 153,
   "metadata": {},
   "outputs": [
    {
     "name": "stdout",
     "output_type": "stream",
     "text": [
      "\n",
      "\n",
      "Test R^2 Score (No Tuning): 0.6659 \n",
      "\n"
     ]
    }
   ],
   "source": [
    "testAcc = round(r2_score(y_true=yt, y_pred=ytp), 4)\n",
    "print('\\n\\nTest R^2 Score (No Tuning):', testAcc, '\\n')"
   ]
  },
  {
   "cell_type": "markdown",
   "metadata": {},
   "source": [
    "## With Hyperparameter Tuning"
   ]
  },
  {
   "cell_type": "code",
   "execution_count": 154,
   "metadata": {},
   "outputs": [],
   "source": [
    "numJobs = psutil.cpu_count(logical=False)\n",
    "\n",
    "# scrList = [r2_score, mean_absolute_error, mean_squared_error]\n",
    "scr = r2_score\n",
    "scr = make_scorer(scr)"
   ]
  },
  {
   "cell_type": "code",
   "execution_count": 155,
   "metadata": {},
   "outputs": [],
   "source": [
    "alphaListList = np.logspace(-2,2,5)\n",
    "\n",
    "ratioList = np.linspace(0,1,11)"
   ]
  },
  {
   "cell_type": "code",
   "execution_count": 156,
   "metadata": {},
   "outputs": [
    {
     "name": "stdout",
     "output_type": "stream",
     "text": [
      "Fitting 3 folds for each of 55 candidates, totalling 165 fits\n"
     ]
    },
    {
     "name": "stderr",
     "output_type": "stream",
     "text": [
      "[Parallel(n_jobs=4)]: Using backend LokyBackend with 4 concurrent workers.\n",
      "[Parallel(n_jobs=4)]: Done  57 tasks      | elapsed:   15.3s\n",
      "[Parallel(n_jobs=4)]: Done 165 out of 165 | elapsed:   16.8s finished\n"
     ]
    },
    {
     "data": {
      "text/plain": [
       "{'alpha': 0.01, 'l1_ratio': 1.0}"
      ]
     },
     "execution_count": 156,
     "metadata": {},
     "output_type": "execute_result"
    }
   ],
   "source": [
    "hyperParams = {'alpha':alphaListList, 'l1_ratio':ratioList}\n",
    "\n",
    "best_model = GridSearchCV(estimator=baseModel, param_grid=hyperParams, cv=3, scoring=scr, n_jobs=numJobs, verbose=1)\n",
    "\n",
    "best_model.fit(x, y);\n",
    "\n",
    "best_model.best_params_"
   ]
  },
  {
   "cell_type": "code",
   "execution_count": 157,
   "metadata": {},
   "outputs": [],
   "source": [
    "yp = best_model.best_estimator_.predict(x)\n",
    "ytp = best_model.best_estimator_.predict(xt)"
   ]
  },
  {
   "cell_type": "code",
   "execution_count": 158,
   "metadata": {},
   "outputs": [
    {
     "name": "stdout",
     "output_type": "stream",
     "text": [
      "\n",
      "\n",
      "Test R^2 Score (With Tuning): 1.0 \n",
      "\n"
     ]
    }
   ],
   "source": [
    "testAcc = round(r2_score(y_true=yt, y_pred=ytp), 4)\n",
    "print('\\n\\nTest R^2 Score (With Tuning):', testAcc, '\\n')"
   ]
  },
  {
   "cell_type": "code",
   "execution_count": 159,
   "metadata": {},
   "outputs": [],
   "source": [
    "sdf = pd.DataFrame()\n",
    "kdf = pd.DataFrame()\n",
    "\n",
    "sdf['OrigTarget'] = target.round(2)\n",
    "sdf['BaseModelPred'] = baseModel.predict(data).round(2)\n",
    "sdf['Error'] = (sdf['OrigTarget'] - sdf['BaseModelPred']).abs()\n",
    "\n",
    "kdf['OrigTarget'] = target.round(2)\n",
    "kdf['TunedModelPred'] = best_model.best_estimator_.predict(data).round(2)\n",
    "kdf['Error'] = (kdf['OrigTarget'] - kdf['TunedModelPred']).abs()"
   ]
  },
  {
   "cell_type": "code",
   "execution_count": 160,
   "metadata": {},
   "outputs": [
    {
     "data": {
      "text/html": [
       "<div>\n",
       "<style scoped>\n",
       "    .dataframe tbody tr th:only-of-type {\n",
       "        vertical-align: middle;\n",
       "    }\n",
       "\n",
       "    .dataframe tbody tr th {\n",
       "        vertical-align: top;\n",
       "    }\n",
       "\n",
       "    .dataframe thead th {\n",
       "        text-align: right;\n",
       "    }\n",
       "</style>\n",
       "<table border=\"1\" class=\"dataframe\">\n",
       "  <thead>\n",
       "    <tr style=\"text-align: right;\">\n",
       "      <th></th>\n",
       "      <th>OrigTarget</th>\n",
       "      <th>BaseModelPred</th>\n",
       "      <th>Error</th>\n",
       "    </tr>\n",
       "  </thead>\n",
       "  <tbody>\n",
       "    <tr>\n",
       "      <th>0</th>\n",
       "      <td>-107.81</td>\n",
       "      <td>-47.46</td>\n",
       "      <td>60.35</td>\n",
       "    </tr>\n",
       "    <tr>\n",
       "      <th>1</th>\n",
       "      <td>-136.84</td>\n",
       "      <td>-61.40</td>\n",
       "      <td>75.44</td>\n",
       "    </tr>\n",
       "    <tr>\n",
       "      <th>2</th>\n",
       "      <td>-177.48</td>\n",
       "      <td>-78.44</td>\n",
       "      <td>99.04</td>\n",
       "    </tr>\n",
       "    <tr>\n",
       "      <th>3</th>\n",
       "      <td>-40.26</td>\n",
       "      <td>-17.14</td>\n",
       "      <td>23.12</td>\n",
       "    </tr>\n",
       "    <tr>\n",
       "      <th>4</th>\n",
       "      <td>71.77</td>\n",
       "      <td>30.44</td>\n",
       "      <td>41.33</td>\n",
       "    </tr>\n",
       "    <tr>\n",
       "      <th>5</th>\n",
       "      <td>-70.86</td>\n",
       "      <td>-28.71</td>\n",
       "      <td>42.15</td>\n",
       "    </tr>\n",
       "    <tr>\n",
       "      <th>6</th>\n",
       "      <td>44.54</td>\n",
       "      <td>17.26</td>\n",
       "      <td>27.28</td>\n",
       "    </tr>\n",
       "    <tr>\n",
       "      <th>7</th>\n",
       "      <td>214.84</td>\n",
       "      <td>91.47</td>\n",
       "      <td>123.37</td>\n",
       "    </tr>\n",
       "    <tr>\n",
       "      <th>8</th>\n",
       "      <td>6.36</td>\n",
       "      <td>0.97</td>\n",
       "      <td>5.39</td>\n",
       "    </tr>\n",
       "    <tr>\n",
       "      <th>9</th>\n",
       "      <td>92.05</td>\n",
       "      <td>37.85</td>\n",
       "      <td>54.20</td>\n",
       "    </tr>\n",
       "  </tbody>\n",
       "</table>\n",
       "</div>"
      ],
      "text/plain": [
       "   OrigTarget  BaseModelPred   Error\n",
       "0     -107.81         -47.46   60.35\n",
       "1     -136.84         -61.40   75.44\n",
       "2     -177.48         -78.44   99.04\n",
       "3      -40.26         -17.14   23.12\n",
       "4       71.77          30.44   41.33\n",
       "5      -70.86         -28.71   42.15\n",
       "6       44.54          17.26   27.28\n",
       "7      214.84          91.47  123.37\n",
       "8        6.36           0.97    5.39\n",
       "9       92.05          37.85   54.20"
      ]
     },
     "execution_count": 160,
     "metadata": {},
     "output_type": "execute_result"
    }
   ],
   "source": [
    "sdf.head(10)"
   ]
  },
  {
   "cell_type": "code",
   "execution_count": 161,
   "metadata": {},
   "outputs": [
    {
     "data": {
      "text/html": [
       "<div>\n",
       "<style scoped>\n",
       "    .dataframe tbody tr th:only-of-type {\n",
       "        vertical-align: middle;\n",
       "    }\n",
       "\n",
       "    .dataframe tbody tr th {\n",
       "        vertical-align: top;\n",
       "    }\n",
       "\n",
       "    .dataframe thead th {\n",
       "        text-align: right;\n",
       "    }\n",
       "</style>\n",
       "<table border=\"1\" class=\"dataframe\">\n",
       "  <thead>\n",
       "    <tr style=\"text-align: right;\">\n",
       "      <th></th>\n",
       "      <th>OrigTarget</th>\n",
       "      <th>TunedModelPred</th>\n",
       "      <th>Error</th>\n",
       "    </tr>\n",
       "  </thead>\n",
       "  <tbody>\n",
       "    <tr>\n",
       "      <th>0</th>\n",
       "      <td>-107.81</td>\n",
       "      <td>-110.92</td>\n",
       "      <td>3.11</td>\n",
       "    </tr>\n",
       "    <tr>\n",
       "      <th>1</th>\n",
       "      <td>-136.84</td>\n",
       "      <td>-141.20</td>\n",
       "      <td>4.36</td>\n",
       "    </tr>\n",
       "    <tr>\n",
       "      <th>2</th>\n",
       "      <td>-177.48</td>\n",
       "      <td>-181.64</td>\n",
       "      <td>4.16</td>\n",
       "    </tr>\n",
       "    <tr>\n",
       "      <th>3</th>\n",
       "      <td>-40.26</td>\n",
       "      <td>-42.46</td>\n",
       "      <td>2.20</td>\n",
       "    </tr>\n",
       "    <tr>\n",
       "      <th>4</th>\n",
       "      <td>71.77</td>\n",
       "      <td>71.27</td>\n",
       "      <td>0.50</td>\n",
       "    </tr>\n",
       "    <tr>\n",
       "      <th>5</th>\n",
       "      <td>-70.86</td>\n",
       "      <td>-73.28</td>\n",
       "      <td>2.42</td>\n",
       "    </tr>\n",
       "    <tr>\n",
       "      <th>6</th>\n",
       "      <td>44.54</td>\n",
       "      <td>43.81</td>\n",
       "      <td>0.73</td>\n",
       "    </tr>\n",
       "    <tr>\n",
       "      <th>7</th>\n",
       "      <td>214.84</td>\n",
       "      <td>217.05</td>\n",
       "      <td>2.21</td>\n",
       "    </tr>\n",
       "    <tr>\n",
       "      <th>8</th>\n",
       "      <td>6.36</td>\n",
       "      <td>4.19</td>\n",
       "      <td>2.17</td>\n",
       "    </tr>\n",
       "    <tr>\n",
       "      <th>9</th>\n",
       "      <td>92.05</td>\n",
       "      <td>92.09</td>\n",
       "      <td>0.04</td>\n",
       "    </tr>\n",
       "  </tbody>\n",
       "</table>\n",
       "</div>"
      ],
      "text/plain": [
       "   OrigTarget  TunedModelPred  Error\n",
       "0     -107.81         -110.92   3.11\n",
       "1     -136.84         -141.20   4.36\n",
       "2     -177.48         -181.64   4.16\n",
       "3      -40.26          -42.46   2.20\n",
       "4       71.77           71.27   0.50\n",
       "5      -70.86          -73.28   2.42\n",
       "6       44.54           43.81   0.73\n",
       "7      214.84          217.05   2.21\n",
       "8        6.36            4.19   2.17\n",
       "9       92.05           92.09   0.04"
      ]
     },
     "execution_count": 161,
     "metadata": {},
     "output_type": "execute_result"
    }
   ],
   "source": [
    "kdf.head(10)"
   ]
  },
  {
   "cell_type": "code",
   "execution_count": null,
   "metadata": {},
   "outputs": [],
   "source": []
  }
 ],
 "metadata": {
  "kernelspec": {
   "display_name": "Python 3",
   "language": "python",
   "name": "python3"
  },
  "language_info": {
   "codemirror_mode": {
    "name": "ipython",
    "version": 3
   },
   "file_extension": ".py",
   "mimetype": "text/x-python",
   "name": "python",
   "nbconvert_exporter": "python",
   "pygments_lexer": "ipython3",
   "version": "3.7.4"
  }
 },
 "nbformat": 4,
 "nbformat_minor": 4
}
