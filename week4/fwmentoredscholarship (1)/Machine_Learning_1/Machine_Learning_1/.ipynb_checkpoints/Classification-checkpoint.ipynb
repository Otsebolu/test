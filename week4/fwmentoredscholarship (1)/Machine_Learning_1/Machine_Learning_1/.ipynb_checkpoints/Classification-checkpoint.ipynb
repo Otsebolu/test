{
 "cells": [
  {
   "cell_type": "code",
   "execution_count": 17,
   "metadata": {},
   "outputs": [],
   "source": [
    "%reset -f"
   ]
  },
  {
   "cell_type": "code",
   "execution_count": 18,
   "metadata": {},
   "outputs": [],
   "source": [
    "import matplotlib.pyplot as plt\n",
    "plt.style.use('seaborn')\n",
    "\n",
    "import numpy as np\n",
    "import pandas as pd\n",
    "\n",
    "from collections import Counter\n",
    "\n",
    "import psutil\n",
    "\n",
    "from sklearn.linear_model import LogisticRegression\n",
    "from sklearn.ensemble import RandomForestClassifier\n",
    "from sklearn.model_selection import train_test_split\n",
    "from sklearn.metrics import confusion_matrix, accuracy_score\n",
    "from sklearn.preprocessing import StandardScaler"
   ]
  },
  {
   "cell_type": "code",
   "execution_count": 19,
   "metadata": {},
   "outputs": [
    {
     "data": {
      "text/plain": [
       "4"
      ]
     },
     "execution_count": 19,
     "metadata": {},
     "output_type": "execute_result"
    }
   ],
   "source": [
    "numJobs = psutil.cpu_count(logical=False)\n",
    "numJobs"
   ]
  },
  {
   "cell_type": "code",
   "execution_count": 21,
   "metadata": {},
   "outputs": [
    {
     "data": {
      "text/html": [
       "<div>\n",
       "<style scoped>\n",
       "    .dataframe tbody tr th:only-of-type {\n",
       "        vertical-align: middle;\n",
       "    }\n",
       "\n",
       "    .dataframe tbody tr th {\n",
       "        vertical-align: top;\n",
       "    }\n",
       "\n",
       "    .dataframe thead th {\n",
       "        text-align: right;\n",
       "    }\n",
       "</style>\n",
       "<table border=\"1\" class=\"dataframe\">\n",
       "  <thead>\n",
       "    <tr style=\"text-align: right;\">\n",
       "      <th></th>\n",
       "      <th>Verbal</th>\n",
       "      <th>Quantitative</th>\n",
       "      <th>Analytical_Writing</th>\n",
       "      <th>CGPA</th>\n",
       "      <th>Age</th>\n",
       "      <th>Admitted</th>\n",
       "    </tr>\n",
       "  </thead>\n",
       "  <tbody>\n",
       "    <tr>\n",
       "      <th>0</th>\n",
       "      <td>490</td>\n",
       "      <td>760</td>\n",
       "      <td>3.5</td>\n",
       "      <td>4.53</td>\n",
       "      <td>31</td>\n",
       "      <td>0</td>\n",
       "    </tr>\n",
       "    <tr>\n",
       "      <th>1</th>\n",
       "      <td>710</td>\n",
       "      <td>800</td>\n",
       "      <td>4.0</td>\n",
       "      <td>4.85</td>\n",
       "      <td>31</td>\n",
       "      <td>1</td>\n",
       "    </tr>\n",
       "    <tr>\n",
       "      <th>2</th>\n",
       "      <td>680</td>\n",
       "      <td>680</td>\n",
       "      <td>4.0</td>\n",
       "      <td>4.64</td>\n",
       "      <td>22</td>\n",
       "      <td>0</td>\n",
       "    </tr>\n",
       "    <tr>\n",
       "      <th>3</th>\n",
       "      <td>590</td>\n",
       "      <td>690</td>\n",
       "      <td>2.0</td>\n",
       "      <td>3.31</td>\n",
       "      <td>23</td>\n",
       "      <td>0</td>\n",
       "    </tr>\n",
       "    <tr>\n",
       "      <th>4</th>\n",
       "      <td>570</td>\n",
       "      <td>780</td>\n",
       "      <td>3.0</td>\n",
       "      <td>4.38</td>\n",
       "      <td>24</td>\n",
       "      <td>0</td>\n",
       "    </tr>\n",
       "    <tr>\n",
       "      <th>5</th>\n",
       "      <td>660</td>\n",
       "      <td>690</td>\n",
       "      <td>4.0</td>\n",
       "      <td>3.32</td>\n",
       "      <td>22</td>\n",
       "      <td>0</td>\n",
       "    </tr>\n",
       "    <tr>\n",
       "      <th>6</th>\n",
       "      <td>480</td>\n",
       "      <td>770</td>\n",
       "      <td>2.5</td>\n",
       "      <td>4.61</td>\n",
       "      <td>24</td>\n",
       "      <td>0</td>\n",
       "    </tr>\n",
       "    <tr>\n",
       "      <th>7</th>\n",
       "      <td>700</td>\n",
       "      <td>800</td>\n",
       "      <td>3.0</td>\n",
       "      <td>3.49</td>\n",
       "      <td>22</td>\n",
       "      <td>1</td>\n",
       "    </tr>\n",
       "    <tr>\n",
       "      <th>8</th>\n",
       "      <td>650</td>\n",
       "      <td>700</td>\n",
       "      <td>6.0</td>\n",
       "      <td>3.63</td>\n",
       "      <td>24</td>\n",
       "      <td>0</td>\n",
       "    </tr>\n",
       "    <tr>\n",
       "      <th>9</th>\n",
       "      <td>520</td>\n",
       "      <td>740</td>\n",
       "      <td>5.0</td>\n",
       "      <td>3.36</td>\n",
       "      <td>22</td>\n",
       "      <td>0</td>\n",
       "    </tr>\n",
       "  </tbody>\n",
       "</table>\n",
       "</div>"
      ],
      "text/plain": [
       "   Verbal  Quantitative  Analytical_Writing  CGPA  Age  Admitted\n",
       "0     490           760                 3.5  4.53   31         0\n",
       "1     710           800                 4.0  4.85   31         1\n",
       "2     680           680                 4.0  4.64   22         0\n",
       "3     590           690                 2.0  3.31   23         0\n",
       "4     570           780                 3.0  4.38   24         0\n",
       "5     660           690                 4.0  3.32   22         0\n",
       "6     480           770                 2.5  4.61   24         0\n",
       "7     700           800                 3.0  3.49   22         1\n",
       "8     650           700                 6.0  3.63   24         0\n",
       "9     520           740                 5.0  3.36   22         0"
      ]
     },
     "execution_count": 21,
     "metadata": {},
     "output_type": "execute_result"
    }
   ],
   "source": [
    "df = pd.read_csv('GRE_Admissions.csv')\n",
    "df.head(10)"
   ]
  },
  {
   "cell_type": "markdown",
   "metadata": {},
   "source": [
    "## NOTE: We'll skip most of the data exploration"
   ]
  },
  {
   "cell_type": "code",
   "execution_count": 22,
   "metadata": {},
   "outputs": [
    {
     "name": "stdout",
     "output_type": "stream",
     "text": [
      "Admission Outcomes:\n",
      "\tNot Admitted: 76.05 %\n",
      "\tAdmitted: 23.95 %\n"
     ]
    }
   ],
   "source": [
    "res = Counter(df['Admitted'])\n",
    "\n",
    "print('Admission Outcomes:')\n",
    "\n",
    "for ky in res.keys():\n",
    "    ss = round(100*res[ky]/df.shape[0], 2)\n",
    "    if ky==1:\n",
    "        tt = '\\tAdmitted'\n",
    "    else:\n",
    "        tt = '\\tNot Admitted'\n",
    "    print(tt+':', ss, '%')"
   ]
  },
  {
   "cell_type": "code",
   "execution_count": 24,
   "metadata": {},
   "outputs": [],
   "source": [
    "data = df.drop(['Admitted'], axis=1)\n",
    "target = df['Admitted']"
   ]
  },
  {
   "cell_type": "code",
   "execution_count": 25,
   "metadata": {},
   "outputs": [],
   "source": [
    "x, xt, y, yt = train_test_split(data, target)"
   ]
  },
  {
   "cell_type": "code",
   "execution_count": 29,
   "metadata": {},
   "outputs": [],
   "source": [
    "# res = Counter(y)\n",
    "\n",
    "# print('Admission Outcomes:')\n",
    "\n",
    "# for ky in res.keys():\n",
    "#     ss = round(100*res[ky]/y.shape[0], 2)\n",
    "#     if ky==1:\n",
    "#         tt = '\\tAdmitted'\n",
    "#     else:\n",
    "#         tt = '\\tNot Admitted'\n",
    "#     print(tt+':', ss, '%')"
   ]
  },
  {
   "cell_type": "code",
   "execution_count": 30,
   "metadata": {},
   "outputs": [],
   "source": [
    "# res = Counter(yt)\n",
    "\n",
    "# print('Admission Outcomes:')\n",
    "\n",
    "# for ky in res.keys():\n",
    "#     ss = round(100*res[ky]/yt.shape[0], 2)\n",
    "#     if ky==1:\n",
    "#         tt = '\\tAdmitted'\n",
    "#     else:\n",
    "#         tt = '\\tNot Admitted'\n",
    "#     print(tt+':', ss, '%')"
   ]
  },
  {
   "cell_type": "code",
   "execution_count": 31,
   "metadata": {},
   "outputs": [],
   "source": [
    "theCols = [i for i in x.columns]"
   ]
  },
  {
   "cell_type": "code",
   "execution_count": 33,
   "metadata": {},
   "outputs": [],
   "source": [
    "stdScaler = StandardScaler()\n",
    "\n",
    "stdScaler.fit(x)\n",
    "\n",
    "x = stdScaler.transform(x)\n",
    "xt = stdScaler.transform(xt)"
   ]
  },
  {
   "cell_type": "markdown",
   "metadata": {},
   "source": [
    "## Logistic Regression"
   ]
  },
  {
   "cell_type": "code",
   "execution_count": 34,
   "metadata": {},
   "outputs": [],
   "source": [
    "baseModel = LogisticRegression()\n",
    "\n",
    "baseModel.fit(x,y);"
   ]
  },
  {
   "cell_type": "code",
   "execution_count": 35,
   "metadata": {},
   "outputs": [],
   "source": [
    "yp = baseModel.predict(x)\n",
    "ytp = baseModel.predict(xt)"
   ]
  },
  {
   "cell_type": "code",
   "execution_count": 38,
   "metadata": {},
   "outputs": [
    {
     "name": "stdout",
     "output_type": "stream",
     "text": [
      "\n",
      "\n",
      "Train Accuracy: 91.88 %\n",
      "\n",
      "Train Confusion Matrix:\n"
     ]
    },
    {
     "data": {
      "text/plain": [
       "array([[5422,  271],\n",
       "       [ 338, 1469]], dtype=int64)"
      ]
     },
     "execution_count": 38,
     "metadata": {},
     "output_type": "execute_result"
    }
   ],
   "source": [
    "trainAcc = round(100*accuracy_score(y_true=y, y_pred=yp), 2)\n",
    "print('\\n\\nTrain Accuracy:', trainAcc, '%\\n')\n",
    "\n",
    "print('Train Confusion Matrix:')\n",
    "confusion_matrix(y_true=y, y_pred=yp)"
   ]
  },
  {
   "cell_type": "code",
   "execution_count": 40,
   "metadata": {},
   "outputs": [
    {
     "name": "stdout",
     "output_type": "stream",
     "text": [
      "\n",
      "\n",
      "Test Accuracy: 91.72 %\n",
      "\n",
      "Test Confusion Matrix:\n"
     ]
    },
    {
     "data": {
      "text/plain": [
       "array([[1822,   90],\n",
       "       [ 117,  471]], dtype=int64)"
      ]
     },
     "execution_count": 40,
     "metadata": {},
     "output_type": "execute_result"
    }
   ],
   "source": [
    "testAcc = round(100*accuracy_score(y_true=yt, y_pred=ytp), 2)\n",
    "print('\\n\\nTest Accuracy:', testAcc, '%\\n')\n",
    "\n",
    "print('Test Confusion Matrix:')\n",
    "confusion_matrix(y_true=yt, y_pred=ytp)"
   ]
  },
  {
   "cell_type": "code",
   "execution_count": 43,
   "metadata": {},
   "outputs": [
    {
     "data": {
      "image/png": "[encoded data removed]",
      "text/plain": [
       "<Figure size 576x396 with 1 Axes>"
      ]
     },
     "metadata": {},
     "output_type": "display_data"
    }
   ],
   "source": [
    "tt = baseModel.coef_[0]\n",
    "\n",
    "p = list(zip(theCols, tt))\n",
    "\n",
    "px = [i[0] for i in p]\n",
    "py = [i[1] for i in p]\n",
    "\n",
    "plt.bar(px,py)\n",
    "plt.xticks(rotation=90, fontsize=17)\n",
    "plt.show()"
   ]
  },
  {
   "cell_type": "markdown",
   "metadata": {},
   "source": [
    "## Random Forest"
   ]
  },
  {
   "cell_type": "code",
   "execution_count": 44,
   "metadata": {},
   "outputs": [],
   "source": [
    "baseModel = RandomForestClassifier()\n",
    "\n",
    "baseModel.fit(x,y);"
   ]
  },
  {
   "cell_type": "code",
   "execution_count": 45,
   "metadata": {},
   "outputs": [
    {
     "name": "stdout",
     "output_type": "stream",
     "text": [
      "\n",
      "\n",
      "Train Accuracy: 100.0 %\n",
      "\n",
      "Train Confusion Matrix:\n"
     ]
    },
    {
     "data": {
      "text/plain": [
       "array([[5693,    0],\n",
       "       [   0, 1807]], dtype=int64)"
      ]
     },
     "execution_count": 45,
     "metadata": {},
     "output_type": "execute_result"
    }
   ],
   "source": [
    "yp = baseModel.predict(x)\n",
    "\n",
    "trainAcc = round(100*accuracy_score(y_true=y, y_pred=yp), 2)\n",
    "print('\\n\\nTrain Accuracy:', trainAcc, '%\\n')\n",
    "\n",
    "print('Train Confusion Matrix:')\n",
    "confusion_matrix(y_true=y, y_pred=yp)"
   ]
  },
  {
   "cell_type": "code",
   "execution_count": 46,
   "metadata": {},
   "outputs": [
    {
     "name": "stdout",
     "output_type": "stream",
     "text": [
      "\n",
      "\n",
      "Test Accuracy: 100.0 %\n",
      "\n",
      "Test Confusion Matrix:\n"
     ]
    },
    {
     "data": {
      "text/plain": [
       "array([[1912,    0],\n",
       "       [   0,  588]], dtype=int64)"
      ]
     },
     "execution_count": 46,
     "metadata": {},
     "output_type": "execute_result"
    }
   ],
   "source": [
    "ytp = baseModel.predict(xt)\n",
    "\n",
    "testAcc = round(100*accuracy_score(y_true=yt, y_pred=ytp), 2)\n",
    "print('\\n\\nTest Accuracy:', testAcc, '%\\n')\n",
    "\n",
    "print('Test Confusion Matrix:')\n",
    "confusion_matrix(y_true=yt, y_pred=ytp)"
   ]
  },
  {
   "cell_type": "code",
   "execution_count": 47,
   "metadata": {},
   "outputs": [
    {
     "data": {
      "image/png": "[encoded data removed]",
      "text/plain": [
       "<Figure size 576x396 with 1 Axes>"
      ]
     },
     "metadata": {},
     "output_type": "display_data"
    }
   ],
   "source": [
    "tt = baseModel.feature_importances_\n",
    "\n",
    "p = list(zip(theCols, tt))\n",
    "\n",
    "px = [i[0] for i in p]\n",
    "py = [i[1] for i in p]\n",
    "\n",
    "plt.bar(px,py)\n",
    "plt.xticks(rotation=90, fontsize=17)\n",
    "plt.show()"
   ]
  },
  {
   "cell_type": "code",
   "execution_count": 54,
   "metadata": {},
   "outputs": [],
   "source": []
  },
  {
   "cell_type": "code",
   "execution_count": 54,
   "metadata": {},
   "outputs": [],
   "source": []
  },
  {
   "cell_type": "code",
   "execution_count": 54,
   "metadata": {},
   "outputs": [],
   "source": []
  },
  {
   "cell_type": "markdown",
   "metadata": {},
   "source": [
    "#### NOTES: One-Hot-Encoding and Label-Binarizer"
   ]
  },
  {
   "cell_type": "code",
   "execution_count": 62,
   "metadata": {},
   "outputs": [],
   "source": [
    "pdf = df.copy()\n",
    "pSaved = pdf['Admitted']\n",
    "\n",
    "pdf = pdf.drop(['Admitted'], axis=1)"
   ]
  },
  {
   "cell_type": "code",
   "execution_count": 63,
   "metadata": {},
   "outputs": [
    {
     "data": {
      "text/html": [
       "<div>\n",
       "<style scoped>\n",
       "    .dataframe tbody tr th:only-of-type {\n",
       "        vertical-align: middle;\n",
       "    }\n",
       "\n",
       "    .dataframe tbody tr th {\n",
       "        vertical-align: top;\n",
       "    }\n",
       "\n",
       "    .dataframe thead th {\n",
       "        text-align: right;\n",
       "    }\n",
       "</style>\n",
       "<table border=\"1\" class=\"dataframe\">\n",
       "  <thead>\n",
       "    <tr style=\"text-align: right;\">\n",
       "      <th></th>\n",
       "      <th>Verbal</th>\n",
       "      <th>Quantitative</th>\n",
       "      <th>Analytical_Writing</th>\n",
       "      <th>CGPA</th>\n",
       "      <th>Age</th>\n",
       "      <th>Height</th>\n",
       "      <th>Admitted</th>\n",
       "    </tr>\n",
       "  </thead>\n",
       "  <tbody>\n",
       "    <tr>\n",
       "      <th>0</th>\n",
       "      <td>490</td>\n",
       "      <td>760</td>\n",
       "      <td>3.5</td>\n",
       "      <td>4.53</td>\n",
       "      <td>31</td>\n",
       "      <td>Tall</td>\n",
       "      <td>Not_Admitted</td>\n",
       "    </tr>\n",
       "    <tr>\n",
       "      <th>1</th>\n",
       "      <td>710</td>\n",
       "      <td>800</td>\n",
       "      <td>4.0</td>\n",
       "      <td>4.85</td>\n",
       "      <td>31</td>\n",
       "      <td>Short</td>\n",
       "      <td>Not_Admitted</td>\n",
       "    </tr>\n",
       "    <tr>\n",
       "      <th>2</th>\n",
       "      <td>680</td>\n",
       "      <td>680</td>\n",
       "      <td>4.0</td>\n",
       "      <td>4.64</td>\n",
       "      <td>22</td>\n",
       "      <td>Tall</td>\n",
       "      <td>Not_Admitted</td>\n",
       "    </tr>\n",
       "    <tr>\n",
       "      <th>3</th>\n",
       "      <td>590</td>\n",
       "      <td>690</td>\n",
       "      <td>2.0</td>\n",
       "      <td>3.31</td>\n",
       "      <td>23</td>\n",
       "      <td>Tall</td>\n",
       "      <td>Not_Admitted</td>\n",
       "    </tr>\n",
       "    <tr>\n",
       "      <th>4</th>\n",
       "      <td>570</td>\n",
       "      <td>780</td>\n",
       "      <td>3.0</td>\n",
       "      <td>4.38</td>\n",
       "      <td>24</td>\n",
       "      <td>Tall</td>\n",
       "      <td>Not_Admitted</td>\n",
       "    </tr>\n",
       "    <tr>\n",
       "      <th>5</th>\n",
       "      <td>660</td>\n",
       "      <td>690</td>\n",
       "      <td>4.0</td>\n",
       "      <td>3.32</td>\n",
       "      <td>22</td>\n",
       "      <td>Short</td>\n",
       "      <td>Not_Admitted</td>\n",
       "    </tr>\n",
       "    <tr>\n",
       "      <th>6</th>\n",
       "      <td>480</td>\n",
       "      <td>770</td>\n",
       "      <td>2.5</td>\n",
       "      <td>4.61</td>\n",
       "      <td>24</td>\n",
       "      <td>Tall</td>\n",
       "      <td>Not_Admitted</td>\n",
       "    </tr>\n",
       "    <tr>\n",
       "      <th>7</th>\n",
       "      <td>700</td>\n",
       "      <td>800</td>\n",
       "      <td>3.0</td>\n",
       "      <td>3.49</td>\n",
       "      <td>22</td>\n",
       "      <td>Average</td>\n",
       "      <td>Not_Admitted</td>\n",
       "    </tr>\n",
       "    <tr>\n",
       "      <th>8</th>\n",
       "      <td>650</td>\n",
       "      <td>700</td>\n",
       "      <td>6.0</td>\n",
       "      <td>3.63</td>\n",
       "      <td>24</td>\n",
       "      <td>Average</td>\n",
       "      <td>Not_Admitted</td>\n",
       "    </tr>\n",
       "    <tr>\n",
       "      <th>9</th>\n",
       "      <td>520</td>\n",
       "      <td>740</td>\n",
       "      <td>5.0</td>\n",
       "      <td>3.36</td>\n",
       "      <td>22</td>\n",
       "      <td>Average</td>\n",
       "      <td>Not_Admitted</td>\n",
       "    </tr>\n",
       "    <tr>\n",
       "      <th>10</th>\n",
       "      <td>700</td>\n",
       "      <td>800</td>\n",
       "      <td>3.0</td>\n",
       "      <td>3.79</td>\n",
       "      <td>42</td>\n",
       "      <td>Tall</td>\n",
       "      <td>Not_Admitted</td>\n",
       "    </tr>\n",
       "    <tr>\n",
       "      <th>11</th>\n",
       "      <td>520</td>\n",
       "      <td>720</td>\n",
       "      <td>2.5</td>\n",
       "      <td>3.94</td>\n",
       "      <td>22</td>\n",
       "      <td>Average</td>\n",
       "      <td>Not_Admitted</td>\n",
       "    </tr>\n",
       "    <tr>\n",
       "      <th>12</th>\n",
       "      <td>720</td>\n",
       "      <td>800</td>\n",
       "      <td>5.0</td>\n",
       "      <td>4.64</td>\n",
       "      <td>20</td>\n",
       "      <td>Short</td>\n",
       "      <td>Not_Admitted</td>\n",
       "    </tr>\n",
       "    <tr>\n",
       "      <th>13</th>\n",
       "      <td>490</td>\n",
       "      <td>740</td>\n",
       "      <td>4.5</td>\n",
       "      <td>3.73</td>\n",
       "      <td>23</td>\n",
       "      <td>Short</td>\n",
       "      <td>Not_Admitted</td>\n",
       "    </tr>\n",
       "    <tr>\n",
       "      <th>14</th>\n",
       "      <td>630</td>\n",
       "      <td>760</td>\n",
       "      <td>4.0</td>\n",
       "      <td>3.98</td>\n",
       "      <td>24</td>\n",
       "      <td>Tall</td>\n",
       "      <td>Not_Admitted</td>\n",
       "    </tr>\n",
       "  </tbody>\n",
       "</table>\n",
       "</div>"
      ],
      "text/plain": [
       "    Verbal  Quantitative  Analytical_Writing  CGPA  Age   Height      Admitted\n",
       "0      490           760                 3.5  4.53   31     Tall  Not_Admitted\n",
       "1      710           800                 4.0  4.85   31    Short  Not_Admitted\n",
       "2      680           680                 4.0  4.64   22     Tall  Not_Admitted\n",
       "3      590           690                 2.0  3.31   23     Tall  Not_Admitted\n",
       "4      570           780                 3.0  4.38   24     Tall  Not_Admitted\n",
       "5      660           690                 4.0  3.32   22    Short  Not_Admitted\n",
       "6      480           770                 2.5  4.61   24     Tall  Not_Admitted\n",
       "7      700           800                 3.0  3.49   22  Average  Not_Admitted\n",
       "8      650           700                 6.0  3.63   24  Average  Not_Admitted\n",
       "9      520           740                 5.0  3.36   22  Average  Not_Admitted\n",
       "10     700           800                 3.0  3.79   42     Tall  Not_Admitted\n",
       "11     520           720                 2.5  3.94   22  Average  Not_Admitted\n",
       "12     720           800                 5.0  4.64   20    Short  Not_Admitted\n",
       "13     490           740                 4.5  3.73   23    Short  Not_Admitted\n",
       "14     630           760                 4.0  3.98   24     Tall  Not_Admitted"
      ]
     },
     "execution_count": 63,
     "metadata": {},
     "output_type": "execute_result"
    }
   ],
   "source": [
    "tt = ['Tall', 'Short', 'Average']\n",
    "\n",
    "ts = [np.random.choice(tt) for i in range(pdf.shape[0])]\n",
    "\n",
    "pdf['Height'] = ts\n",
    "pdf['Admitted'] = ['Admitted' if i==1 else 'Not_Admitted' for i in ts]\n",
    "\n",
    "pdf.head(15)"
   ]
  },
  {
   "cell_type": "code",
   "execution_count": 67,
   "metadata": {},
   "outputs": [
    {
     "data": {
      "text/html": [
       "<div>\n",
       "<style scoped>\n",
       "    .dataframe tbody tr th:only-of-type {\n",
       "        vertical-align: middle;\n",
       "    }\n",
       "\n",
       "    .dataframe tbody tr th {\n",
       "        vertical-align: top;\n",
       "    }\n",
       "\n",
       "    .dataframe thead th {\n",
       "        text-align: right;\n",
       "    }\n",
       "</style>\n",
       "<table border=\"1\" class=\"dataframe\">\n",
       "  <thead>\n",
       "    <tr style=\"text-align: right;\">\n",
       "      <th></th>\n",
       "      <th>Verbal</th>\n",
       "      <th>Quantitative</th>\n",
       "      <th>Analytical_Writing</th>\n",
       "      <th>CGPA</th>\n",
       "      <th>Age</th>\n",
       "      <th>Height_Average</th>\n",
       "      <th>Height_Short</th>\n",
       "      <th>Height_Tall</th>\n",
       "      <th>Target</th>\n",
       "    </tr>\n",
       "  </thead>\n",
       "  <tbody>\n",
       "    <tr>\n",
       "      <th>0</th>\n",
       "      <td>490</td>\n",
       "      <td>760</td>\n",
       "      <td>3.5</td>\n",
       "      <td>4.53</td>\n",
       "      <td>31</td>\n",
       "      <td>0</td>\n",
       "      <td>0</td>\n",
       "      <td>1</td>\n",
       "      <td>0</td>\n",
       "    </tr>\n",
       "    <tr>\n",
       "      <th>1</th>\n",
       "      <td>710</td>\n",
       "      <td>800</td>\n",
       "      <td>4.0</td>\n",
       "      <td>4.85</td>\n",
       "      <td>31</td>\n",
       "      <td>0</td>\n",
       "      <td>1</td>\n",
       "      <td>0</td>\n",
       "      <td>0</td>\n",
       "    </tr>\n",
       "    <tr>\n",
       "      <th>2</th>\n",
       "      <td>680</td>\n",
       "      <td>680</td>\n",
       "      <td>4.0</td>\n",
       "      <td>4.64</td>\n",
       "      <td>22</td>\n",
       "      <td>0</td>\n",
       "      <td>0</td>\n",
       "      <td>1</td>\n",
       "      <td>0</td>\n",
       "    </tr>\n",
       "    <tr>\n",
       "      <th>3</th>\n",
       "      <td>590</td>\n",
       "      <td>690</td>\n",
       "      <td>2.0</td>\n",
       "      <td>3.31</td>\n",
       "      <td>23</td>\n",
       "      <td>0</td>\n",
       "      <td>0</td>\n",
       "      <td>1</td>\n",
       "      <td>0</td>\n",
       "    </tr>\n",
       "    <tr>\n",
       "      <th>4</th>\n",
       "      <td>570</td>\n",
       "      <td>780</td>\n",
       "      <td>3.0</td>\n",
       "      <td>4.38</td>\n",
       "      <td>24</td>\n",
       "      <td>0</td>\n",
       "      <td>0</td>\n",
       "      <td>1</td>\n",
       "      <td>0</td>\n",
       "    </tr>\n",
       "    <tr>\n",
       "      <th>5</th>\n",
       "      <td>660</td>\n",
       "      <td>690</td>\n",
       "      <td>4.0</td>\n",
       "      <td>3.32</td>\n",
       "      <td>22</td>\n",
       "      <td>0</td>\n",
       "      <td>1</td>\n",
       "      <td>0</td>\n",
       "      <td>0</td>\n",
       "    </tr>\n",
       "    <tr>\n",
       "      <th>6</th>\n",
       "      <td>480</td>\n",
       "      <td>770</td>\n",
       "      <td>2.5</td>\n",
       "      <td>4.61</td>\n",
       "      <td>24</td>\n",
       "      <td>0</td>\n",
       "      <td>0</td>\n",
       "      <td>1</td>\n",
       "      <td>0</td>\n",
       "    </tr>\n",
       "    <tr>\n",
       "      <th>7</th>\n",
       "      <td>700</td>\n",
       "      <td>800</td>\n",
       "      <td>3.0</td>\n",
       "      <td>3.49</td>\n",
       "      <td>22</td>\n",
       "      <td>1</td>\n",
       "      <td>0</td>\n",
       "      <td>0</td>\n",
       "      <td>0</td>\n",
       "    </tr>\n",
       "    <tr>\n",
       "      <th>8</th>\n",
       "      <td>650</td>\n",
       "      <td>700</td>\n",
       "      <td>6.0</td>\n",
       "      <td>3.63</td>\n",
       "      <td>24</td>\n",
       "      <td>1</td>\n",
       "      <td>0</td>\n",
       "      <td>0</td>\n",
       "      <td>0</td>\n",
       "    </tr>\n",
       "    <tr>\n",
       "      <th>9</th>\n",
       "      <td>520</td>\n",
       "      <td>740</td>\n",
       "      <td>5.0</td>\n",
       "      <td>3.36</td>\n",
       "      <td>22</td>\n",
       "      <td>1</td>\n",
       "      <td>0</td>\n",
       "      <td>0</td>\n",
       "      <td>0</td>\n",
       "    </tr>\n",
       "    <tr>\n",
       "      <th>10</th>\n",
       "      <td>700</td>\n",
       "      <td>800</td>\n",
       "      <td>3.0</td>\n",
       "      <td>3.79</td>\n",
       "      <td>42</td>\n",
       "      <td>0</td>\n",
       "      <td>0</td>\n",
       "      <td>1</td>\n",
       "      <td>0</td>\n",
       "    </tr>\n",
       "    <tr>\n",
       "      <th>11</th>\n",
       "      <td>520</td>\n",
       "      <td>720</td>\n",
       "      <td>2.5</td>\n",
       "      <td>3.94</td>\n",
       "      <td>22</td>\n",
       "      <td>1</td>\n",
       "      <td>0</td>\n",
       "      <td>0</td>\n",
       "      <td>0</td>\n",
       "    </tr>\n",
       "    <tr>\n",
       "      <th>12</th>\n",
       "      <td>720</td>\n",
       "      <td>800</td>\n",
       "      <td>5.0</td>\n",
       "      <td>4.64</td>\n",
       "      <td>20</td>\n",
       "      <td>0</td>\n",
       "      <td>1</td>\n",
       "      <td>0</td>\n",
       "      <td>0</td>\n",
       "    </tr>\n",
       "    <tr>\n",
       "      <th>13</th>\n",
       "      <td>490</td>\n",
       "      <td>740</td>\n",
       "      <td>4.5</td>\n",
       "      <td>3.73</td>\n",
       "      <td>23</td>\n",
       "      <td>0</td>\n",
       "      <td>1</td>\n",
       "      <td>0</td>\n",
       "      <td>0</td>\n",
       "    </tr>\n",
       "    <tr>\n",
       "      <th>14</th>\n",
       "      <td>630</td>\n",
       "      <td>760</td>\n",
       "      <td>4.0</td>\n",
       "      <td>3.98</td>\n",
       "      <td>24</td>\n",
       "      <td>0</td>\n",
       "      <td>0</td>\n",
       "      <td>1</td>\n",
       "      <td>0</td>\n",
       "    </tr>\n",
       "  </tbody>\n",
       "</table>\n",
       "</div>"
      ],
      "text/plain": [
       "    Verbal  Quantitative  Analytical_Writing  CGPA  Age  Height_Average  \\\n",
       "0      490           760                 3.5  4.53   31               0   \n",
       "1      710           800                 4.0  4.85   31               0   \n",
       "2      680           680                 4.0  4.64   22               0   \n",
       "3      590           690                 2.0  3.31   23               0   \n",
       "4      570           780                 3.0  4.38   24               0   \n",
       "5      660           690                 4.0  3.32   22               0   \n",
       "6      480           770                 2.5  4.61   24               0   \n",
       "7      700           800                 3.0  3.49   22               1   \n",
       "8      650           700                 6.0  3.63   24               1   \n",
       "9      520           740                 5.0  3.36   22               1   \n",
       "10     700           800                 3.0  3.79   42               0   \n",
       "11     520           720                 2.5  3.94   22               1   \n",
       "12     720           800                 5.0  4.64   20               0   \n",
       "13     490           740                 4.5  3.73   23               0   \n",
       "14     630           760                 4.0  3.98   24               0   \n",
       "\n",
       "    Height_Short  Height_Tall  Target  \n",
       "0              0            1       0  \n",
       "1              1            0       0  \n",
       "2              0            1       0  \n",
       "3              0            1       0  \n",
       "4              0            1       0  \n",
       "5              1            0       0  \n",
       "6              0            1       0  \n",
       "7              0            0       0  \n",
       "8              0            0       0  \n",
       "9              0            0       0  \n",
       "10             0            1       0  \n",
       "11             0            0       0  \n",
       "12             1            0       0  \n",
       "13             1            0       0  \n",
       "14             0            1       0  "
      ]
     },
     "execution_count": 67,
     "metadata": {},
     "output_type": "execute_result"
    }
   ],
   "source": [
    "data = pdf.drop(['Admitted'], axis=1)\n",
    "target = [1 if i=='Admitted' else 0 for i in pdf['Admitted']]\n",
    "\n",
    "data = pd.get_dummies(data) # this is where the encoding happens\n",
    "data['Target'] = target\n",
    "data.head(15)"
   ]
  },
  {
   "cell_type": "code",
   "execution_count": null,
   "metadata": {},
   "outputs": [],
   "source": [
    "target"
   ]
  },
  {
   "cell_type": "code",
   "execution_count": null,
   "metadata": {},
   "outputs": [],
   "source": []
  }
 ],
 "metadata": {
  "kernelspec": {
   "display_name": "Python 3",
   "language": "python",
   "name": "python3"
  },
  "language_info": {
   "codemirror_mode": {
    "name": "ipython",
    "version": 3
   },
   "file_extension": ".py",
   "mimetype": "text/x-python",
   "name": "python",
   "nbconvert_exporter": "python",
   "pygments_lexer": "ipython3",
   "version": "3.7.1"
  }
 },
 "nbformat": 4,
 "nbformat_minor": 2
}
